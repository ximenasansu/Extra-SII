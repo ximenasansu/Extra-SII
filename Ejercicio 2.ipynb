{
  "nbformat": 4,
  "nbformat_minor": 0,
  "metadata": {
    "colab": {
      "name": "Extra_simulacion.ipynb",
      "provenance": [],
      "include_colab_link": true
    },
    "kernelspec": {
      "name": "python3",
      "display_name": "Python 3"
    },
    "language_info": {
      "name": "python"
    }
  },
  "cells": [
    {
      "cell_type": "markdown",
      "metadata": {
        "id": "view-in-github",
        "colab_type": "text"
      },
      "source": [
        "<a href=\"https://colab.research.google.com/github/ximenasansu/Extra-SII/blob/main/Ejercicio%202.ipynb\" target=\"_parent\"><img src=\"https://colab.research.google.com/assets/colab-badge.svg\" alt=\"Open In Colab\"/></a>"
      ]
    },
    {
      "cell_type": "markdown",
      "source": [
        "# Ejercicio 2\n",
        "\n",
        "Autolavado"
      ],
      "metadata": {
        "id": "n-aNim2XFQUe"
      }
    },
    {
      "cell_type": "code",
      "source": [
        "#Lineas de espera\n",
        "#inciso a\n",
        "from random import random \n",
        "from math import log\n",
        "def f(T):\n",
        "    l_l = 4 #timepo de llegada\n",
        "    l_s = 10/60 #timepo de atencion \n",
        "    t = 0 #timepo contado\n",
        "    tl = 0 #primera llegada\n",
        "    infi = 10000000000000000\n",
        "    ts = infi #tiempo de salida\n",
        "    l = 0 #personas en el sistema\n",
        "    na=0\n",
        "    ne=0\n",
        "    while t < T:\n",
        "        t = min(tl,ts)\n",
        "        if t == tl: #si t es llegada\n",
        "            ne = ne + 1\n",
        "            l = l + 1\n",
        "            #print(\"Llegada %10.4f\"%tl,\"Personas %4d\"%l)\n",
        "            tl = tl - (1/l_l) * log(random())\n",
        "            if l == 1:\n",
        "                ts = t - (1/l_s) * log(random())\n",
        "        else:\n",
        "            na = na + 1\n",
        "            l = l - 1\n",
        "            #print(\"               \",\"Salida %10.4f\"%tl,\"Personas %4d\"%l)\n",
        "            if l == 0:\n",
        "                ts = infi\n",
        "            else:\n",
        "                ts = ts - (1/l_s) * log(random())\n",
        "    return ne-na\n",
        "            \n",
        "nr=1000\n",
        "suma=0\n",
        "T=8\n",
        "prob = 0\n",
        "for i in range(nr):\n",
        "    x=f(T)\n",
        "    suma=suma+x\n",
        "    if x>30:\n",
        "        prob=prob+1\n",
        "print(f'El valor esperado de personas en el sistema es de {suma/nr}')\n",
        "print(f'Ademas tenemos una probabilidad del {prob/nr*100}% de tener mas de 30 autos en el sistema')\n",
        "#esperanza de personas atendidas sobre eventos"
      ],
      "metadata": {
        "colab": {
          "base_uri": "https://localhost:8080/"
        },
        "id": "GJDIiu5yG74Z",
        "outputId": "9e22ee95-bbbd-4b7e-d02e-0ab882126472"
      },
      "execution_count": 3,
      "outputs": [
        {
          "output_type": "stream",
          "name": "stdout",
          "text": [
            "El valor esperado de personas en el sistema es de 32.72\n",
            "Ademas tenemos una probabilidad del 63.7% de tener mas de 30 autos en el sistema\n"
          ]
        }
      ]
    },
    {
      "cell_type": "markdown",
      "source": [
        "Basandome en los resultados de la simulacion, afirmo que el autolavado deberia tener capacidad para al menos 30 autos."
      ],
      "metadata": {
        "id": "ddjZi9vliusk"
      }
    }
  ]
}